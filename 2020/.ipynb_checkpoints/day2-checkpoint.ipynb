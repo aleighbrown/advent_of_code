{
 "cells": [
  {
   "cell_type": "markdown",
   "metadata": {},
   "source": [
    "# Part One "
   ]
  },
  {
   "cell_type": "code",
   "execution_count": 26,
   "metadata": {},
   "outputs": [
    {
     "name": "stdout",
     "output_type": "stream",
     "text": [
      "Correct solution is 396\n"
     ]
    }
   ],
   "source": [
    "day2 = open(\"input/day_two.txt\",\"r\")\n",
    "n_rows = 0 \n",
    "for line in day2:\n",
    "    fields = line.split(\" \")\n",
    "    let_range = [int(s) for s in fields[0].split(\"-\") if s.isdigit()]\n",
    "    req_let = fields[1].replace(':','')\n",
    "    n_rows += (let_range[0] <= fields[2].count(req_let) <= let_range[1])\n",
    "\n",
    "print(\"Correct solution is {}\".format(n_rows))"
   ]
  },
  {
   "cell_type": "markdown",
   "metadata": {},
   "source": [
    "# Part Two "
   ]
  },
  {
   "cell_type": "code",
   "execution_count": 39,
   "metadata": {},
   "outputs": [
    {
     "name": "stdout",
     "output_type": "stream",
     "text": [
      "Correct solution is 428\n"
     ]
    }
   ],
   "source": [
    "day2 = open(\"input/day_two.txt\",\"r\")\n",
    "n_rows2 = 0 \n",
    "for line in day2:\n",
    "    fields = line.split(\" \")\n",
    "    let_range = [int(s) for s in fields[0].split(\"-\") if s.isdigit()]\n",
    "    req_let = fields[1].replace(':','')\n",
    "    let_at_min_pos = fields[2][int(let_range[0]) - 1] == req_let\n",
    "    let_at_max_pos = fields[2][int(let_range[1]) - 1] == req_let\n",
    "    n_rows2 += let_at_min_pos ^ let_at_max_pos\n",
    "print(\"Correct solution is {}\".format(n_rows2))"
   ]
  },
  {
   "cell_type": "code",
   "execution_count": null,
   "metadata": {},
   "outputs": [],
   "source": []
  }
 ],
 "metadata": {
  "kernelspec": {
   "display_name": "Python 3",
   "language": "python",
   "name": "python3"
  },
  "language_info": {
   "codemirror_mode": {
    "name": "ipython",
    "version": 3
   },
   "file_extension": ".py",
   "mimetype": "text/x-python",
   "name": "python",
   "nbconvert_exporter": "python",
   "pygments_lexer": "ipython3",
   "version": "3.8.5"
  }
 },
 "nbformat": 4,
 "nbformat_minor": 4
}

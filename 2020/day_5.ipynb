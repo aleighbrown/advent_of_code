{
 "cells": [
  {
   "cell_type": "code",
   "execution_count": 1,
   "metadata": {},
   "outputs": [],
   "source": [
    "dayfive = open('input/day_five.txt', 'r')\n",
    "lines = dayfive.readlines() "
   ]
  },
  {
   "cell_type": "code",
   "execution_count": 2,
   "metadata": {},
   "outputs": [
    {
     "name": "stdout",
     "output_type": "stream",
     "text": [
      "Max seat id 813\n",
      "Found the seat\n",
      "612\n"
     ]
    }
   ],
   "source": [
    "def split_ranges(binary_part, upper_key, lower_key, length):\n",
    "    number_range = list(range(0,length))\n",
    "    for l in binary_part:\n",
    "        if(l == upper_key):\n",
    "            number_range = number_range[:int(len(number_range) / 2)]\n",
    "        if(l == lower_key):\n",
    "            number_range = number_range[int(len(number_range) / 2):]\n",
    "    return(number_range[0])\n",
    "\n",
    "def interpret_binary(binary_code):\n",
    "    row = binary_code[:7]\n",
    "    column = binary_code[7:]\n",
    "    r = split_ranges(row,\"F\",\"B\",128)\n",
    "    c = split_ranges(column,\"L\",\"R\",9)\n",
    "    seat_id = (r * 8) + c\n",
    "\n",
    "    return(seat_id)\n",
    "\n",
    "rows = list(range(0,128))\n",
    "columns = list(range(0,8))\n",
    "possible_sids = list(map(lambda x: [(x * 8) + i for i in range(0,8)], rows))\n",
    "\n",
    "max_seat_id = 0\n",
    "present_sids = []\n",
    "for line in lines:\n",
    "    sid = interpret_binary(line)\n",
    "    present_sids.append(sid)\n",
    "    if(sid > max_seat_id):\n",
    "        max_seat_id = sid\n",
    "dayfive.close()\n",
    "print(\"Max seat id {}\".format(max_seat_id))\n",
    "\n",
    "\n",
    "new_row = 0\n",
    "for ind, row in enumerate(possible_sids):\n",
    "    for seat in row:\n",
    "        check = seat in present_sids\n",
    "        if(not check):\n",
    "            if(not new_row == ind):\n",
    "                print(\"Found the seat\")\n",
    "                print(seat)\n",
    "                break\n",
    "            new_row = ind\n",
    "    else:\n",
    "        continue\n",
    "    break"
   ]
  }
 ],
 "metadata": {
  "kernelspec": {
   "display_name": "Python 3",
   "language": "python",
   "name": "python3"
  },
  "language_info": {
   "codemirror_mode": {
    "name": "ipython",
    "version": 3
   },
   "file_extension": ".py",
   "mimetype": "text/x-python",
   "name": "python",
   "nbconvert_exporter": "python",
   "pygments_lexer": "ipython3",
   "version": "3.8.5"
  }
 },
 "nbformat": 4,
 "nbformat_minor": 4
}
